{
 "cells": [
  {
   "cell_type": "markdown",
   "metadata": {},
   "source": [
    "# SIMPLE TEXT SUMMARISATION"
   ]
  },
  {
   "cell_type": "code",
   "execution_count": 10,
   "metadata": {},
   "outputs": [],
   "source": [
    "\n",
    "from sklearn.feature_extraction.text import TfidfVectorizer\n",
    "from spacy.lang.en import English\n",
    "import numpy as np"
   ]
  },
  {
   "cell_type": "code",
   "execution_count": 11,
   "metadata": {},
   "outputs": [],
   "source": [
    "nlp = English()\n",
    "nlp.add_pipe(nlp.create_pipe('sentencizer'))"
   ]
  },
  {
   "cell_type": "code",
   "execution_count": 12,
   "metadata": {},
   "outputs": [],
   "source": [
    "text_corpus = \"\"\"\n",
    "Google celebrated British illustrator and artist Sir John Tenniel's \n",
    "200th birth anniversary with a doodle on February 28. An acclaimed \n",
    "Victorian painter, Tenniel is celebrated for his illustrations for \n",
    "Lewis Carroll's Alice's Adventures in Wonderland and Through the Looking-Glass.\n",
    "Tenniel was born in Bayswater, West London in 1820. At the age of 20, Tenniel \n",
    "received a major eye injury and eventually, lost sight in his right eye. \n",
    "From a very early age, Tenniel was appreciated as a humorist and soon after, \n",
    "also cultured his talent for scholarly caricature.\n",
    "His first illustration was for Samuel Carter Hall's The Book of British \n",
    "Ballads in 1842. Eight years later, he joined the historic weekly magazine \n",
    "Punch as a political cartoonist. Lewis Carroll noticed Tenniel's distinct style \n",
    "of work and in 1864, approached the artist to illustrate his book, Alice's \n",
    "Adventures in Wonderland. This association marked Carroll and Tenniel's creative \n",
    "partnership and continued with Through the Looking Glass in 1872. \"The result: \n",
    "a series of classic characters, such as Alice and the Cheshire Cat, as depicted \n",
    "in the Doodle artwork's rendition of their iconic meeting-characters who, along \n",
    "with many others, remain beloved by readers of all ages to this day,\" the Google \n",
    "Doodle page says. After working with Lewis Carroll, Tenniel resumed his work with \n",
    "Punch. For his work, Tenniel also received a knighthood in 1893.\n",
    "Sir John Tenniel died on February 25, 1914. He was 93.\n",
    "\"\"\""
   ]
  },
  {
   "cell_type": "code",
   "execution_count": 13,
   "metadata": {},
   "outputs": [],
   "source": [
    "def summarizer(text, tokenizer, max_sent_in_summary=3):\n",
    "    # Create spacy document for further sentence level tokenization\n",
    "    doc = nlp(text_corpus.replace(\"\\n\", \"\"))  #replace newline \n",
    "    sentences = [sent.string.strip() for sent in doc.sents]\n",
    "    # Let's create an organizer which will store the sentence ordering to later reorganize the \n",
    "    # scored sentences in their correct order\n",
    "    sentence_organizer = {k:v for v,k in enumerate(sentences)}\n",
    "    # Let's now create a tf-idf (Term frequnecy Inverse Document Frequency) model\n",
    "    tf_idf_vectorizer = TfidfVectorizer(min_df=2,  max_features=None, \n",
    "                                        strip_accents='unicode', \n",
    "                                        analyzer='word',\n",
    "                                        token_pattern=r'\\w{1,}',\n",
    "                                        ngram_range=(1, 3), \n",
    "                                        use_idf=1,smooth_idf=1,\n",
    "                                        sublinear_tf=1,\n",
    "                                        stop_words = 'english')\n",
    "    # Passing our sentences treating each as one document to TF-IDF vectorizer\n",
    "    tf_idf_vectorizer.fit(sentences)\n",
    "    # Transforming our sentences to TF-IDF vectors\n",
    "    sentence_vectors = tf_idf_vectorizer.transform(sentences)\n",
    "    # Getting sentence scores for each sentences\n",
    "    sentence_scores = np.array(sentence_vectors.sum(axis=1)).ravel()\n",
    "    # Getting top-n sentences\n",
    "    N = max_sent_in_summary\n",
    "    top_n_sentences = [sentences[ind] for ind in np.argsort(sentence_scores, axis=0)[::-1][:N]]\n",
    "    # Let's now do the sentence ordering using our prebaked sentence_organizer\n",
    "    # Let's map the scored sentences with their indexes\n",
    "    mapped_top_n_sentences = [(sentence,sentence_organizer[sentence]) for sentence in top_n_sentences]\n",
    "    # Ordering our top-n sentences in their original ordering\n",
    "    mapped_top_n_sentences = sorted(mapped_top_n_sentences, key = lambda x: x[1])\n",
    "    ordered_scored_sentences = [element[0] for element in mapped_top_n_sentences]\n",
    "    # Our final summary\n",
    "    summary = \" \".join(ordered_scored_sentences)\n",
    "    return summary"
   ]
  },
  {
   "cell_type": "code",
   "execution_count": 14,
   "metadata": {},
   "outputs": [
    {
     "name": "stdout",
     "output_type": "stream",
     "text": [
      "Summarizer Result: \n",
      " Google celebrated British illustrator and artist Sir John Tenniel's 200th birth anniversary with a doodle on February 28. An acclaimed Victorian painter, Tenniel is celebrated for his illustrations for Lewis Carroll's Alice's Adventures in Wonderland and Through the Looking-Glass. Lewis Carroll noticed Tenniel's distinct style of work and in 1864, approached the artist to illustrate his book, Alice's Adventures in Wonderland.\n"
     ]
    }
   ],
   "source": [
    "print(\"Summarizer Result: \\n\", summarizer(text=text_corpus, tokenizer=nlp, max_sent_in_summary=3))"
   ]
  },
  {
   "cell_type": "code",
   "execution_count": null,
   "metadata": {},
   "outputs": [],
   "source": []
  }
 ],
 "metadata": {
  "kernelspec": {
   "display_name": "Python 3",
   "language": "python",
   "name": "python3"
  },
  "language_info": {
   "codemirror_mode": {
    "name": "ipython",
    "version": 3
   },
   "file_extension": ".py",
   "mimetype": "text/x-python",
   "name": "python",
   "nbconvert_exporter": "python",
   "pygments_lexer": "ipython3",
   "version": "3.7.9"
  }
 },
 "nbformat": 4,
 "nbformat_minor": 4
}
